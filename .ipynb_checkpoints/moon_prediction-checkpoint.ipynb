{
 "cells": [
  {
   "cell_type": "markdown",
   "metadata": {
    "id": "3r046PIIH9i1"
   },
   "source": [
    "# **Predicting the Lunar Albedo based on Chemical Composition**\n",
    "### Mainak Singha"
   ]
  },
  {
   "cell_type": "markdown",
   "metadata": {
    "id": "lmybbkuBCMcs"
   },
   "source": [
    "## Import Libraries"
   ]
  },
  {
   "cell_type": "code",
   "execution_count": null,
   "metadata": {
    "id": "Tv7IJ3NipMx5"
   },
   "outputs": [],
   "source": [
    "import pandas as pd\n",
    "import numpy as np\n",
    "import seaborn as sns\n",
    "from sklearn.metrics import mean_squared_error\n",
    "import matplotlib.pyplot as plt\n",
    "%matplotlib inline"
   ]
  },
  {
   "cell_type": "markdown",
   "metadata": {
    "id": "toBNtZ7jCU9w"
   },
   "source": [
    "## Load the datasets"
   ]
  },
  {
   "cell_type": "code",
   "execution_count": null,
   "metadata": {
    "id": "7fWsjQfnph-D"
   },
   "outputs": [],
   "source": [
    "Albedo = pd.read_csv(\"Albedo_Map.csv\", header = None) # Lunar Albedo Map\n",
    "Fe = pd.read_csv(\"LPFe_Map.csv\", header = None) # Fe(Iron) Map\n",
    "K = pd.read_csv(\"LPK_Map.csv\", header = None)   # K(Potassium) Map\n",
    "Th = pd.read_csv(\"LPTh_Map.csv\", header = None) # Th(Thorium) Map\n",
    "Ti = pd.read_csv(\"LPTi_Map.csv\", header = None) # Ti(Titanium) Map"
   ]
  },
  {
   "cell_type": "markdown",
   "metadata": {},
   "source": [
    "#### Split the albedo map in two halves"
   ]
  },
  {
   "cell_type": "code",
   "execution_count": null,
   "metadata": {
    "id": "QFpnIEa9xpmy"
   },
   "outputs": [],
   "source": [
    "# Left half for training\n",
    "Albedo_left = Albedo.iloc[:, 0:360].values\n",
    "# Right half for prediction\n",
    "Albedo_right = Albedo.iloc[:, 360:720].values"
   ]
  },
  {
   "cell_type": "markdown",
   "metadata": {},
   "source": [
    "# <font color='red'> Models"
   ]
  },
  {
   "cell_type": "markdown",
   "metadata": {},
   "source": [
    "### Random Forest Regressor"
   ]
  },
  {
   "cell_type": "code",
   "execution_count": null,
   "metadata": {},
   "outputs": [],
   "source": [
    "from sklearn.ensemble import RandomForestRegressor\n",
    "rfregressor=RandomForestRegressor(n_estimators=1000, random_state = 42)"
   ]
  },
  {
   "cell_type": "markdown",
   "metadata": {},
   "source": [
    "### SVM Regressor with Hyperparameter Tunning"
   ]
  },
  {
   "cell_type": "code",
   "execution_count": null,
   "metadata": {},
   "outputs": [],
   "source": [
    "from sklearn.svm import SVR\n",
    "from sklearn.multioutput import MultiOutputRegressor\n",
    "from sklearn.pipeline import Pipeline\n",
    "from sklearn.preprocessing import StandardScaler\n",
    "from sklearn.model_selection import GridSearchCV\n",
    "\n",
    "pipe_svr = Pipeline([('scl', StandardScaler()),\n",
    "        ('reg', MultiOutputRegressor(SVR()))])\n",
    "\n",
    "param_grid = {\n",
    "    'reg__estimator__C': [0.1,1,10],\n",
    "    'reg__estimator__kernel':['linear', 'poly', 'rbf'],\n",
    "    'reg__estimator__degree': [1,2,3,4,5]\n",
    "}\n",
    "\n",
    "svregressor = (GridSearchCV(estimator=pipe_svr, \n",
    "                      param_grid=param_grid , \n",
    "                      cv=2,\n",
    "                      scoring = 'neg_mean_squared_error',\n",
    "                      n_jobs = -1))"
   ]
  },
  {
   "cell_type": "markdown",
   "metadata": {},
   "source": [
    "### XGBoost Regressor"
   ]
  },
  {
   "cell_type": "code",
   "execution_count": null,
   "metadata": {},
   "outputs": [],
   "source": [
    "from xgboost import XGBRegressor\n",
    "from sklearn.multioutput import MultiOutputRegressor\n",
    "xgbregressor = MultiOutputRegressor(XGBRegressor(n_estimators=1000, random_state = 42))"
   ]
  },
  {
   "cell_type": "markdown",
   "metadata": {},
   "source": [
    "### AdaBoost Regressor"
   ]
  },
  {
   "cell_type": "code",
   "execution_count": null,
   "metadata": {},
   "outputs": [],
   "source": [
    "from sklearn.ensemble import AdaBoostRegressor\n",
    "adbregressor=MultiOutputRegressor(AdaBoostRegressor(n_estimators=1000, random_state=42))"
   ]
  },
  {
   "cell_type": "markdown",
   "metadata": {},
   "source": [
    "#### Left portions of Albedo & composition maps will be taken as train data and Right portions of them will be taken as test data."
   ]
  },
  {
   "cell_type": "markdown",
   "metadata": {
    "id": "l9kwYUsVxdHy"
   },
   "source": [
    "# <font color='red'> Fe (Iron)"
   ]
  },
  {
   "cell_type": "markdown",
   "metadata": {
    "id": "Nabg8yplBLmM"
   },
   "source": [
    "#### Split the Fe map in two halves"
   ]
  },
  {
   "cell_type": "code",
   "execution_count": null,
   "metadata": {
    "id": "JTPvW-vtfGdV"
   },
   "outputs": [],
   "source": [
    "Fe_left = Fe.iloc[:, 0:360].values\n",
    "Fe_right = Fe.iloc[:, 360:720].values"
   ]
  },
  {
   "cell_type": "markdown",
   "metadata": {},
   "source": [
    "### <font color='blue'> Random Forest Regressor¶"
   ]
  },
  {
   "cell_type": "code",
   "execution_count": null,
   "metadata": {},
   "outputs": [],
   "source": [
    "# Train the model\n",
    "rdregressor.fit(Albedo_left, Fe_left)\n",
    "\n",
    "# Test the model\n",
    "Fe_predRf = rdregressor.predict(Albedo_right)\n",
    "print(\"Mean Squared Error :\",mean_squared_error(Fe_right,Fe_predRf))"
   ]
  },
  {
   "cell_type": "markdown",
   "metadata": {},
   "source": [
    "### <font color='blue'> SVM Regressor with Hyperparameter Tunning"
   ]
  },
  {
   "cell_type": "code",
   "execution_count": null,
   "metadata": {},
   "outputs": [],
   "source": [
    "# Train the model\n",
    "svregressor = svregressor.fit(Albedo_left, Fe_left)\n",
    "print(\"Best Best Estimators :\",svregressor.best_estimator_)"
   ]
  },
  {
   "cell_type": "code",
   "execution_count": null,
   "metadata": {},
   "outputs": [],
   "source": [
    "# Test the model\n",
    "Fe_predSvr = svregressor.predict(Albedo_right)\n",
    "print(\"Mean Squared Error :\",mean_squared_error(Fe_right,Fe_predSvr))"
   ]
  },
  {
   "cell_type": "markdown",
   "metadata": {},
   "source": [
    "### <font color='blue'> XGBoost Regressor¶"
   ]
  },
  {
   "cell_type": "code",
   "execution_count": null,
   "metadata": {},
   "outputs": [],
   "source": [
    "# Train the model\n",
    "xgbregressor.fit(Albedo_left, Fe_left)\n",
    "\n",
    "# Test the model\n",
    "Fe_predXgb = xgbregressor.predict(Albedo_right)\n",
    "print(\"Mean Squared Error :\",mean_squared_error(Fe_right,Fe_predXgb))"
   ]
  },
  {
   "cell_type": "markdown",
   "metadata": {},
   "source": [
    "### <font color='blue'> AdaBoost Regressor¶"
   ]
  },
  {
   "cell_type": "code",
   "execution_count": null,
   "metadata": {},
   "outputs": [],
   "source": [
    "# Train the model\n",
    "adbregressor.fit(Albedo_left, Fe_left)\n",
    "\n",
    "# Test the model\n",
    "Fe_predAdb = adbregressor.predict(Albedo_right)\n",
    "print(\"Mean Squared Error :\",mean_squared_error(Fe_right,Fe_predAdb))"
   ]
  },
  {
   "cell_type": "markdown",
   "metadata": {},
   "source": [
    "Best model :"
   ]
  },
  {
   "cell_type": "markdown",
   "metadata": {},
   "source": [
    "## <font color='green'> Predicted Image and Comparison"
   ]
  },
  {
   "cell_type": "code",
   "execution_count": null,
   "metadata": {},
   "outputs": [],
   "source": [
    "plt.figure(figsize =(15,15))\n",
    "\n",
    "plt.subplot(3, 2, 1)\n",
    "plt.imshow(Albedo_left)\n",
    "plt.title('Lunar Albedo Map (Left Half)', fontweight=\"bold\")\n",
    "plt.colorbar(orientation='horizontal', label= 'Albedo')\n",
    "\n",
    "plt.subplot(3, 2, 2)\n",
    "plt.imshow(Fe_left)\n",
    "plt.title('Lunar Fe Map (Left Half)', fontweight=\"bold\")\n",
    "plt.colorbar(orientation='horizontal', label= 'Fe')\n",
    "\n",
    "plt.subplot(3, 2, 3)\n",
    "plt.imshow(Albedo_right)\n",
    "plt.title('Lunar Albedo Map (Right Half)', fontweight=\"bold\")\n",
    "plt.colorbar(orientation='horizontal', label= 'Albedo')\n",
    "\n",
    "plt.subplot(3, 2, 4)\n",
    "plt.imshow(Fe_right)\n",
    "plt.title('Lunar Fe Map (Right Half)', fontweight=\"bold\")\n",
    "plt.colorbar(orientation='horizontal', label= 'Fe')\n",
    "\n",
    "plt.subplot(3, 2, 6)\n",
    "plt.imshow(Fe_pred)\n",
    "plt.title('Predicted Fe Map', fontweight=\"bold\")\n",
    "plt.colorbar(orientation='horizontal', label= 'Fe')"
   ]
  },
  {
   "cell_type": "markdown",
   "metadata": {},
   "source": [
    "## <font color='green'> Histogram Plot"
   ]
  },
  {
   "cell_type": "code",
   "execution_count": null,
   "metadata": {
    "colab": {
     "base_uri": "https://localhost:8080/",
     "height": 312
    },
    "id": "yxiJJdlaFhFX",
    "outputId": "ff04b40c-f5bd-4f49-c57d-a762d774b427"
   },
   "outputs": [],
   "source": [
    "sns.distplot(Fe_pred, color= 'red')\n",
    "sns.distplot(Fe_right, color = 'blue')\n",
    "plt.xlabel('Pixel Brightness')\n",
    "plt.ylabel('Pixel Count')\n",
    "plt.legend(['Predicted Fe Map', 'True Fe Map'])\n",
    "plt.title('Pixel Distributions', fontweight=\"bold\")"
   ]
  },
  {
   "cell_type": "markdown",
   "metadata": {
    "id": "BFyvZCZ5bAQ6"
   },
   "source": [
    "### **Observation: In this 1D-histogram,** <font color='#00008B'>**Count of the high brightness pixels of <font color='#FFA60F'>range 14 is less</font> (these pixels shows where we could find the most amount of \"Iron\" on the Moon)**</font>"
   ]
  },
  {
   "cell_type": "markdown",
   "metadata": {
    "id": "Gg4FSxUJ2KrT"
   },
   "source": [
    "# **K (Potassium)**"
   ]
  },
  {
   "cell_type": "markdown",
   "metadata": {
    "id": "wjuV7uhr2UDO"
   },
   "source": [
    "#### Split the Fe map in two halves"
   ]
  },
  {
   "cell_type": "code",
   "execution_count": null,
   "metadata": {
    "id": "dB1kAEu62TFb"
   },
   "outputs": [],
   "source": [
    "K_left = k.iloc[:, 0:360].values\n",
    "K_right = k.iloc[:, 360:720].values"
   ]
  },
  {
   "cell_type": "markdown",
   "metadata": {},
   "source": [
    "### <font color='blue'> Random Forest Regressor¶"
   ]
  },
  {
   "cell_type": "code",
   "execution_count": null,
   "metadata": {},
   "outputs": [],
   "source": [
    "# Train the model\n",
    "rdregressor.fit(Albedo_left, K_left)\n",
    "\n",
    "# Test the model\n",
    "K_predRf = rdregressor.predict(Albedo_right)\n",
    "print(\"Mean Squared Error :\",mean_squared_error(K_right,K_predRf))"
   ]
  },
  {
   "cell_type": "markdown",
   "metadata": {},
   "source": [
    "### <font color='blue'> SVM Regressor with Hyperparameter Tunning"
   ]
  },
  {
   "cell_type": "code",
   "execution_count": null,
   "metadata": {},
   "outputs": [],
   "source": [
    "# Train the model\n",
    "svregressor = svregressor.fit(Albedo_left, K_left)\n",
    "print(\"Best Best Estimators :\",svregressor.best_estimator_)"
   ]
  },
  {
   "cell_type": "code",
   "execution_count": null,
   "metadata": {},
   "outputs": [],
   "source": [
    "# Test the model\n",
    "K_predSvr = svregressor.predict(Albedo_right)\n",
    "print(\"Mean Squared Error :\",mean_squared_error(K_right,K_predSvr))"
   ]
  },
  {
   "cell_type": "markdown",
   "metadata": {},
   "source": [
    "### <font color='blue'> XGBoost Regressor¶"
   ]
  },
  {
   "cell_type": "code",
   "execution_count": null,
   "metadata": {},
   "outputs": [],
   "source": [
    "# Train the model\n",
    "xgbregressor.fit(Albedo_left, K_left)\n",
    "\n",
    "# Test the model\n",
    "K_predXgb = xgbregressor.predict(Albedo_right)\n",
    "print(\"Mean Squared Error :\",mean_squared_error(K_right,K_predXgb))"
   ]
  },
  {
   "cell_type": "code",
   "execution_count": null,
   "metadata": {},
   "outputs": [],
   "source": [
    "# Train the model\n",
    "adbregressor.fit(Albedo_left, K_left)\n",
    "\n",
    "# Test the model\n",
    "K_predAdb = adbregressor.predict(Albedo_right)\n",
    "print(\"Mean Squared Error :\",mean_squared_error(K_right,K_predAdb))"
   ]
  },
  {
   "cell_type": "markdown",
   "metadata": {},
   "source": [
    "Best model :"
   ]
  },
  {
   "cell_type": "markdown",
   "metadata": {},
   "source": [
    "## <font color='green'> Predicted Image and Comparison"
   ]
  },
  {
   "cell_type": "code",
   "execution_count": null,
   "metadata": {},
   "outputs": [],
   "source": [
    "plt.figure(figsize =(15,15))\n",
    "\n",
    "plt.subplot(3, 2, 1)\n",
    "plt.imshow(Albedo_left)\n",
    "plt.title('Lunar Albedo Map (Left Half)', fontweight=\"bold\")\n",
    "plt.colorbar(orientation='horizontal', label= 'Albedo')\n",
    "\n",
    "plt.subplot(3, 2, 2)\n",
    "plt.imshow(K_left)\n",
    "plt.title('Lunar K Map (Left Half)', fontweight=\"bold\")\n",
    "plt.colorbar(orientation='horizontal', label= 'K')\n",
    "\n",
    "plt.subplot(3, 2, 3)\n",
    "plt.imshow(Albedo_right)\n",
    "plt.title('Lunar Albedo Map (Right Half)', fontweight=\"bold\")\n",
    "plt.colorbar(orientation='horizontal', label= 'Albedo')\n",
    "\n",
    "plt.subplot(3, 2, 4)\n",
    "plt.imshow(K_right)\n",
    "plt.title('Lunar K Map (Right Half)', fontweight=\"bold\")\n",
    "plt.colorbar(orientation='horizontal', label= 'K')\n",
    "\n",
    "plt.subplot(3, 2, 6)\n",
    "plt.imshow(K_pred)      #taking best model prediction\n",
    "plt.title('Predicted K Map', fontweight=\"bold\")\n",
    "plt.colorbar(orientation='horizontal', label= 'K')"
   ]
  },
  {
   "cell_type": "markdown",
   "metadata": {},
   "source": [
    "## <font color='green'> Histogram Plot"
   ]
  },
  {
   "cell_type": "code",
   "execution_count": null,
   "metadata": {},
   "outputs": [],
   "source": [
    "sns.distplot(K_pred, color= 'red')    #taking best model prediction\n",
    "sns.distplot(K_right, color = 'blue')\n",
    "plt.xlabel('Pixel Brightness')\n",
    "plt.ylabel('Pixel Count')\n",
    "plt.legend(['Predicted K Map', 'True K Map'])\n",
    "plt.title('Pixel Distributions', fontweight=\"bold\")"
   ]
  },
  {
   "cell_type": "code",
   "execution_count": null,
   "metadata": {},
   "outputs": [],
   "source": []
  },
  {
   "cell_type": "markdown",
   "metadata": {
    "id": "0QzGSE1M4nir"
   },
   "source": [
    "### <font color='#585858'>**Output: Predicted Images Comparison**"
   ]
  },
  {
   "cell_type": "markdown",
   "metadata": {
    "id": "z-QbTYFE9_qW"
   },
   "source": [
    "# **Th (Thorium)**"
   ]
  },
  {
   "cell_type": "markdown",
   "metadata": {
    "id": "zoPdXCEK-YMq"
   },
   "source": [
    "#### Split the Th map in two halves"
   ]
  },
  {
   "cell_type": "code",
   "execution_count": null,
   "metadata": {
    "id": "oCb_KQnS-F9W"
   },
   "outputs": [],
   "source": [
    "Th_left = th.iloc[:, 0:360].values\n",
    "Th_right = th.iloc[:, 360:720].values"
   ]
  },
  {
   "cell_type": "markdown",
   "metadata": {},
   "source": [
    "### <font color='blue'> Random Forest Regressor¶"
   ]
  },
  {
   "cell_type": "code",
   "execution_count": null,
   "metadata": {},
   "outputs": [],
   "source": [
    "# Train the model\n",
    "rdregressor.fit(Albedo_left, Th_left)\n",
    "\n",
    "# Test the model\n",
    "Th_predRf = rdregressor.predict(Albedo_right)\n",
    "print(\"Mean Squared Error :\",mean_squared_error(Th_right,Th_predRf))"
   ]
  },
  {
   "cell_type": "markdown",
   "metadata": {},
   "source": [
    "### <font color='blue'> SVM Regressor with Hyperparameter Tunning"
   ]
  },
  {
   "cell_type": "code",
   "execution_count": null,
   "metadata": {},
   "outputs": [],
   "source": [
    "# Train the model\n",
    "svregressor = svregressor.fit(Albedo_left, Th_left)\n",
    "print(\"Best Best Estimators :\",svregressor.best_estimator_)"
   ]
  },
  {
   "cell_type": "code",
   "execution_count": null,
   "metadata": {},
   "outputs": [],
   "source": [
    "# Test the model\n",
    "Th_predSvr = svregressor.predict(Albedo_right)\n",
    "print(\"Mean Squared Error :\",mean_squared_error(Th_right,Th_predSvr))"
   ]
  },
  {
   "cell_type": "markdown",
   "metadata": {},
   "source": [
    "### <font color='blue'> XGBoost Regressor¶"
   ]
  },
  {
   "cell_type": "code",
   "execution_count": null,
   "metadata": {},
   "outputs": [],
   "source": [
    "# Train the model\n",
    "xgbregressor.fit(Albedo_left, Th_left)\n",
    "\n",
    "# Test the model\n",
    "Th_predXgb = xgbregressor.predict(Albedo_right)\n",
    "print(\"Mean Squared Error :\",mean_squared_error(Th_right,Th_predXgb))"
   ]
  },
  {
   "cell_type": "markdown",
   "metadata": {},
   "source": [
    "### <font color='blue'> AdaBoost Regressor¶"
   ]
  },
  {
   "cell_type": "code",
   "execution_count": null,
   "metadata": {},
   "outputs": [],
   "source": [
    "# Train the model\n",
    "adbregressor.fit(Albedo_left, Th_left)\n",
    "\n",
    "# Test the model\n",
    "Th_predAdb = adbregressor.predict(Albedo_right)\n",
    "print(\"Mean Squared Error :\",mean_squared_error(Th_right,Th_predAdb))"
   ]
  },
  {
   "cell_type": "markdown",
   "metadata": {},
   "source": [
    "Best model :"
   ]
  },
  {
   "cell_type": "markdown",
   "metadata": {},
   "source": [
    "## <font color='green'> Predicted Image and Comparison"
   ]
  },
  {
   "cell_type": "code",
   "execution_count": null,
   "metadata": {},
   "outputs": [],
   "source": [
    "plt.figure(figsize =(15,15))\n",
    "\n",
    "plt.subplot(3, 2, 1)\n",
    "plt.imshow(Albedo_left)\n",
    "plt.title('Lunar Albedo Map (Left Half)', fontweight=\"bold\")\n",
    "plt.colorbar(orientation='horizontal', label= 'Albedo')\n",
    "\n",
    "plt.subplot(3, 2, 2)\n",
    "plt.imshow(Th_left)\n",
    "plt.title('Lunar Th Map (Left Half)', fontweight=\"bold\")\n",
    "plt.colorbar(orientation='horizontal', label= 'Th')\n",
    "\n",
    "plt.subplot(3, 2, 3)\n",
    "plt.imshow(Albedo_right)\n",
    "plt.title('Lunar Albedo Map (Right Half)', fontweight=\"bold\")\n",
    "plt.colorbar(orientation='horizontal', label= 'Albedo')\n",
    "\n",
    "plt.subplot(3, 2, 4)\n",
    "plt.imshow(Th_right)\n",
    "plt.title('Lunar Th Map (Right Half)', fontweight=\"bold\")\n",
    "plt.colorbar(orientation='horizontal', label= 'Th')\n",
    "\n",
    "plt.subplot(3, 2, 6)\n",
    "plt.imshow(Th_pred)      #taking best model prediction\n",
    "plt.title('Predicted Th Map', fontweight=\"bold\")\n",
    "plt.colorbar(orientation='horizontal', label= 'Th')"
   ]
  },
  {
   "cell_type": "markdown",
   "metadata": {},
   "source": [
    "## <font color='green'> Histogram Plot"
   ]
  },
  {
   "cell_type": "code",
   "execution_count": null,
   "metadata": {},
   "outputs": [],
   "source": [
    "sns.distplot(Th_pred, color= 'red')       #taking best model prediction\n",
    "sns.distplot(Th_right, color = 'blue')\n",
    "plt.xlabel('Pixel Brightness')\n",
    "plt.ylabel('Pixel Count')\n",
    "plt.legend(['Predicted Th Map', 'True Th Map'])\n",
    "plt.title('Pixel Distributions', fontweight=\"bold\")"
   ]
  },
  {
   "cell_type": "code",
   "execution_count": null,
   "metadata": {},
   "outputs": [],
   "source": []
  },
  {
   "cell_type": "markdown",
   "metadata": {
    "id": "9CkIvz2Y-6VE"
   },
   "source": [
    "# **Ti (Titanium)**"
   ]
  },
  {
   "cell_type": "markdown",
   "metadata": {
    "id": "fcX3TBnx_OcG"
   },
   "source": [
    "#### Split the Ti map in two halves"
   ]
  },
  {
   "cell_type": "code",
   "execution_count": null,
   "metadata": {
    "id": "nfPBH8mk_TM4"
   },
   "outputs": [],
   "source": [
    "Ti_left = ti.iloc[:, 0:360].values\n",
    "Ti_right = ti.iloc[:, 360:720].values"
   ]
  },
  {
   "cell_type": "markdown",
   "metadata": {},
   "source": [
    "### <font color='blue'> Random Forest Regressor¶"
   ]
  },
  {
   "cell_type": "code",
   "execution_count": null,
   "metadata": {},
   "outputs": [],
   "source": [
    "# Train the model\n",
    "rdregressor.fit(Albedo_left, Ti_left)\n",
    "\n",
    "# Test the model\n",
    "Ti_predRf = rdregressor.predict(Albedo_right)\n",
    "print(\"Mean Squared Error :\",mean_squared_error(Ti_right,Ti_predRf))"
   ]
  },
  {
   "cell_type": "markdown",
   "metadata": {},
   "source": [
    "### <font color='blue'> SVM Regressor with Hyperparameter Tunning"
   ]
  },
  {
   "cell_type": "code",
   "execution_count": null,
   "metadata": {},
   "outputs": [],
   "source": [
    "# Train the model\n",
    "svregressor = svregressor.fit(Albedo_left, Ti_left)\n",
    "print(\"Best Best Estimators :\",svregressor.best_estimator_)"
   ]
  },
  {
   "cell_type": "code",
   "execution_count": null,
   "metadata": {},
   "outputs": [],
   "source": [
    "# Test the model\n",
    "Ti_predSvr = svregressor.predict(Albedo_right)\n",
    "print(\"Mean Squared Error :\",mean_squared_error(Ti_right,Ti_predSvr))"
   ]
  },
  {
   "cell_type": "markdown",
   "metadata": {},
   "source": [
    "### <font color='blue'> XGBoost Regressor¶"
   ]
  },
  {
   "cell_type": "code",
   "execution_count": null,
   "metadata": {},
   "outputs": [],
   "source": [
    "# Train the model\n",
    "xgbregressor.fit(Albedo_left, Ti_left)\n",
    "\n",
    "# Test the model\n",
    "Ti_predXgb = xgbregressor.predict(Albedo_right)\n",
    "print(\"Mean Squared Error :\",mean_squared_error(Ti_right,Ti_predXgb))"
   ]
  },
  {
   "cell_type": "markdown",
   "metadata": {},
   "source": [
    "### <font color='blue'> AdaBoost Regressor¶"
   ]
  },
  {
   "cell_type": "code",
   "execution_count": null,
   "metadata": {},
   "outputs": [],
   "source": [
    "# Train the model\n",
    "adbregressor.fit(Albedo_left, Ti_left)\n",
    "\n",
    "# Test the model\n",
    "Ti_predAdb = adbregressor.predict(Albedo_right)\n",
    "print(\"Mean Squared Error :\",mean_squared_error(Ti_right,Ti_predAdb))"
   ]
  },
  {
   "cell_type": "markdown",
   "metadata": {},
   "source": [
    "Best model :"
   ]
  },
  {
   "cell_type": "markdown",
   "metadata": {},
   "source": [
    "## <font color='green'> Predicted Image and Comparison"
   ]
  },
  {
   "cell_type": "code",
   "execution_count": null,
   "metadata": {},
   "outputs": [],
   "source": [
    "plt.figure(figsize =(15,15))\n",
    "\n",
    "plt.subplot(3, 2, 1)\n",
    "plt.imshow(Albedo_left)\n",
    "plt.title('Lunar Albedo Map (Left Half)', fontweight=\"bold\")\n",
    "plt.colorbar(orientation='horizontal', label= 'Albedo')\n",
    "\n",
    "plt.subplot(3, 2, 2)\n",
    "plt.imshow(Ti_left)\n",
    "plt.title('Lunar Ti Map (Left Half)', fontweight=\"bold\")\n",
    "plt.colorbar(orientation='horizontal', label= 'Ti')\n",
    "\n",
    "plt.subplot(3, 2, 3)\n",
    "plt.imshow(Albedo_right)\n",
    "plt.title('Lunar Albedo Map (Right Half)', fontweight=\"bold\")\n",
    "plt.colorbar(orientation='horizontal', label= 'Albedo')\n",
    "\n",
    "plt.subplot(3, 2, 4)\n",
    "plt.imshow(Ti_right)\n",
    "plt.title('Lunar Ti Map (Right Half)', fontweight=\"bold\")\n",
    "plt.colorbar(orientation='horizontal', label= 'Ti')\n",
    "\n",
    "plt.subplot(3, 2, 6)\n",
    "plt.imshow(Fe_pred)              #taking best model prediction\n",
    "plt.title('Predicted Ti Map', fontweight=\"bold\")\n",
    "plt.colorbar(orientation='horizontal', label= 'Ti')"
   ]
  },
  {
   "cell_type": "markdown",
   "metadata": {},
   "source": [
    "## <font color='green'> Histogram Plot"
   ]
  },
  {
   "cell_type": "code",
   "execution_count": null,
   "metadata": {},
   "outputs": [],
   "source": [
    "sns.distplot(Ti_pred, color= 'red')           #taking best model prediction\n",
    "sns.distplot(Ti_right, color = 'blue')\n",
    "plt.xlabel('Pixel Brightness')\n",
    "plt.ylabel('Pixel Count')\n",
    "plt.legend(['Predicted Ti Map', 'True Ti Map'])\n",
    "plt.title('Pixel Distributions', fontweight=\"bold\")"
   ]
  },
  {
   "cell_type": "code",
   "execution_count": null,
   "metadata": {},
   "outputs": [],
   "source": []
  }
 ],
 "metadata": {
  "accelerator": "GPU",
  "colab": {
   "name": "Task_1.ipynb",
   "provenance": []
  },
  "kernelspec": {
   "display_name": "Python 3 (ipykernel)",
   "language": "python",
   "name": "python3"
  },
  "language_info": {
   "codemirror_mode": {
    "name": "ipython",
    "version": 3
   },
   "file_extension": ".py",
   "mimetype": "text/x-python",
   "name": "python",
   "nbconvert_exporter": "python",
   "pygments_lexer": "ipython3",
   "version": "3.8.6"
  }
 },
 "nbformat": 4,
 "nbformat_minor": 1
}
